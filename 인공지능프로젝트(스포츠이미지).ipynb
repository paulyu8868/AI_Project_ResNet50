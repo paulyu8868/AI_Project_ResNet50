{
  "metadata": {
    "kernelspec": {
      "display_name": "Python 3",
      "name": "python3"
    },
    "language_info": {
      "name": "python",
      "version": "3.10.12",
      "mimetype": "text/x-python",
      "codemirror_mode": {
        "name": "ipython",
        "version": 3
      },
      "pygments_lexer": "ipython3",
      "nbconvert_exporter": "python",
      "file_extension": ".py"
    },
    "kaggle": {
      "accelerator": "gpu",
      "dataSources": [
        {
          "sourceId": 5595172,
          "sourceType": "datasetVersion",
          "datasetId": 1209061
        }
      ],
      "dockerImageVersionId": 30636,
      "isInternetEnabled": true,
      "language": "python",
      "sourceType": "notebook",
      "isGpuEnabled": true
    },
    "colab": {
      "provenance": [],
      "gpuType": "T4",
      "include_colab_link": true
    },
    "accelerator": "GPU"
  },
  "nbformat_minor": 0,
  "nbformat": 4,
  "cells": [
    {
      "cell_type": "markdown",
      "metadata": {
        "id": "view-in-github",
        "colab_type": "text"
      },
      "source": [
        "<a href=\"https://colab.research.google.com/github/paulyu8868/AI_Project_ResNet50/blob/main/%EC%9D%B8%EA%B3%B5%EC%A7%80%EB%8A%A5%ED%94%84%EB%A1%9C%EC%A0%9D%ED%8A%B8(%EC%8A%A4%ED%8F%AC%EC%B8%A0%EC%9D%B4%EB%AF%B8%EC%A7%80).ipynb\" target=\"_parent\"><img src=\"https://colab.research.google.com/assets/colab-badge.svg\" alt=\"Open In Colab\"/></a>"
      ]
    },
    {
      "source": [
        "import os\n",
        "import sys\n",
        "from tempfile import NamedTemporaryFile\n",
        "from urllib.request import urlopen\n",
        "from urllib.parse import unquote, urlparse\n",
        "from urllib.error import HTTPError\n",
        "from zipfile import ZipFile\n",
        "import tarfile\n",
        "import shutil\n",
        "\n",
        "CHUNK_SIZE = 40960  # 다운로드할 때 사용할 청크 크기 정의\n",
        "DATA_SOURCE_MAPPING = 'sports-classification:https%3A%2F%2Fstorage.googleapis.com%2Fkaggle-data-sets%2F1209061%2F5595172%2Fbundle%2Farchive.zip%3FX-Goog-Algorithm%3DGOOG4-RSA-SHA256%26X-Goog-Credential%3Dgcp-kaggle-com%2540kaggle-161607.iam.gserviceaccount.com%252F20240526%252Fauto%252Fstorage%252Fgoog4_request%26X-Goog-Date%3D20240526T083516Z%26X-Goog-Expires%3D259200%26X-Goog-SignedHeaders%3Dhost%26X-Goog-Signature%3D4ff27212829aa64ab0b5cf437110047d79b80eebd8419af6b2b44c6edb7e667356b582b4bf29dbab8aa14ab9702f75ffb9de00a948c9d8332fcbe640bd02bde694b71984dbc3a073b72848fc551d4af2471289149cb3bf8dbafbbcdd365793c3b58dcf2ff4e378ee32ddcbadc52b374b2f4196a3d3f7f25f7ab93923079cf17680dd6796fb427023eb46e56c335745f3b58897f1de47ac0141d64a7030e01dc5b595238ba2b681a0e02fe4393d4fd7e415c6079f979ee924875d8733197c5369884e61beb1bf0a0154efc10aa636544118be4cf99d14fe5420ddad142cbb10bacda2fcbd3e289286505063551857b12dca7ff04b8eba68cbf599b2a22654fc85'\n",
        "# 데이터 소스 URL 인코딩\n",
        "\n",
        "KAGGLE_INPUT_PATH='/kaggle/input'\n",
        "KAGGLE_WORKING_PATH='/kaggle/working'\n",
        "KAGGLE_SYMLINK='kaggle'\n",
        "\n",
        "# 이전에 마운트된 /kaggle/input을 언마운트하고 내용 제거\n",
        "!umount /kaggle/input/ 2> /dev/null\n",
        "shutil.rmtree('/kaggle/input', ignore_errors=True)\n",
        "# 입력 및 작업 경로를 위한 디렉토리 생성\n",
        "os.makedirs(KAGGLE_INPUT_PATH, 0o777, exist_ok=True)\n",
        "os.makedirs(KAGGLE_WORKING_PATH, 0o777, exist_ok=True)\n",
        "\n",
        "# 입력 및 작업 경로에 대한 심볼릭 링크 생성\n",
        "try:\n",
        "  os.symlink(KAGGLE_INPUT_PATH, os.path.join(\"..\", 'input'), target_is_directory=True)\n",
        "except FileExistsError:\n",
        "  pass\n",
        "try:\n",
        "  os.symlink(KAGGLE_WORKING_PATH, os.path.join(\"..\", 'working'), target_is_directory=True)\n",
        "except FileExistsError:\n",
        "  pass\n",
        "\n",
        "# 각 데이터 소스 매핑을 순회\n",
        "for data_source_mapping in DATA_SOURCE_MAPPING.split(','):\n",
        "    directory, download_url_encoded = data_source_mapping.split(':')\n",
        "    download_url = unquote(download_url_encoded)\n",
        "    filename = urlparse(download_url).path\n",
        "    destination_path = os.path.join(KAGGLE_INPUT_PATH, directory)\n",
        "    try:\n",
        "        with urlopen(download_url) as fileres, NamedTemporaryFile() as tfile:\n",
        "            total_length = fileres.headers['content-length']\n",
        "            print(f'{directory} 다운로드 중, {total_length} 바이트 압축됨')\n",
        "            dl = 0\n",
        "            data = fileres.read(CHUNK_SIZE)\n",
        "            while len(data) > 0:\n",
        "                dl += len(data)\n",
        "                tfile.write(data)\n",
        "                done = int(50 * dl / int(total_length))\n",
        "                sys.stdout.write(f\"\\r[{'=' * done}{' ' * (50-done)}] {dl} 바이트 다운로드됨\")\n",
        "                sys.stdout.flush()\n",
        "                data = fileres.read(CHUNK_SIZE)\n",
        "            # 파일 확장자에 따라 압축 해제\n",
        "            if filename.endswith('.zip'):\n",
        "              with ZipFile(tfile) as zfile:\n",
        "                zfile.extractall(destination_path)\n",
        "            else:\n",
        "              with tarfile.open(tfile.name) as tarfile:\n",
        "                tarfile.extractall(destination_path)\n",
        "            print(f'\\n{directory} 다운로드 및 압축 해제 완료')\n",
        "    except HTTPError as e:\n",
        "        print(f'(만료 가능성 높음) {download_url} 로드 실패, 경로: {destination_path}')\n",
        "        continue\n",
        "    except OSError as e:\n",
        "        print(f'{download_url} 로드 실패, 경로: {destination_path}')\n",
        "        continue\n",
        "\n",
        "print('데이터 소스 가져오기 완료')\n",
        "# 완료 메시지 출력\n"
      ],
      "metadata": {
        "id": "fKc_vg8XCkID",
        "outputId": "5e5216d1-b763-402a-b2bc-3051ac9603d2",
        "colab": {
          "base_uri": "https://localhost:8080/"
        }
      },
      "cell_type": "code",
      "outputs": [
        {
          "output_type": "stream",
          "name": "stdout",
          "text": [
            "sports-classification 다운로드 중, 444540604 바이트 압축됨\n",
            "[==================================================] 444540604 바이트 다운로드됨\n",
            "sports-classification 다운로드 및 압축 해제 완료\n",
            "데이터 소스 가져오기 완료\n"
          ]
        }
      ],
      "execution_count": null
    },
    {
      "cell_type": "markdown",
      "source": [
        "# Importing Libraries"
      ],
      "metadata": {
        "id": "v9yuwo5RCkIJ"
      }
    },
    {
      "cell_type": "code",
      "source": [
        "import numpy as np\n",
        "import pandas as pd\n",
        "import os\n",
        "import random\n",
        "from PIL import Image\n",
        "import cv2\n",
        "import tensorflow as tf\n",
        "import matplotlib.pyplot as plt\n",
        "# 필요한 라이브러리 및 모듈 임포트\n",
        "\n",
        "from tensorflow import keras\n",
        "from tensorflow.keras import layers, models, optimizers\n",
        "# 케라스에서 레이어, 모델, 옵티마이저 임포트\n",
        "\n",
        "from tensorflow.keras.preprocessing.image import ImageDataGenerator\n",
        "# 이미지 데이터 증강을 위한 ImageDataGenerator 임포트\n",
        "\n",
        "from tensorflow.keras.layers import Input, Dense, Flatten, GlobalAveragePooling2D\n",
        "# 케라스 레이어에서 Input, Dense, Flatten, GlobalAveragePooling2D 임포트\n",
        "\n",
        "from tensorflow.keras.callbacks import Callback, EarlyStopping, ModelCheckpoint, ReduceLROnPlateau\n",
        "# 학습 중 콜백 기능을 위한 Callback, EarlyStopping, ModelCheckpoint, ReduceLROnPlateau 임포트\n",
        "\n",
        "from sklearn.metrics import classification_report, confusion_matrix, accuracy_score\n",
        "# 성능 평가를 위한 classification_report, confusion_matrix, accuracy_score 임포트\n",
        "\n",
        "from tensorflow.keras.optimizers import Adam\n",
        "# 옵티마이저로 Adam 임포트\n"
      ],
      "metadata": {
        "execution": {
          "iopub.status.busy": "2024-01-24T10:30:51.749059Z",
          "iopub.execute_input": "2024-01-24T10:30:51.749346Z",
          "iopub.status.idle": "2024-01-24T10:31:04.44948Z",
          "shell.execute_reply.started": "2024-01-24T10:30:51.749321Z",
          "shell.execute_reply": "2024-01-24T10:31:04.448459Z"
        },
        "trusted": true,
        "id": "q7OVyEHwCkIK"
      },
      "execution_count": null,
      "outputs": []
    },
    {
      "cell_type": "markdown",
      "source": [
        "# Loading the Data"
      ],
      "metadata": {
        "id": "-OkMrl8wCkIK"
      }
    },
    {
      "cell_type": "code",
      "source": [
        "train_dir = '/kaggle/input/sports-classification/train'\n",
        "# 학습 데이터가 저장된 디렉토리 경로 설정\n",
        "\n",
        "test_dir= '/kaggle/input/sports-classification/test'\n",
        "# 테스트 데이터가 저장된 디렉토리 경로 설정\n",
        "\n",
        "val_dir = '/kaggle/input/sports-classification/valid'\n",
        "# 검증 데이터가 저장된 디렉토리 경로 설정\n"
      ],
      "metadata": {
        "execution": {
          "iopub.status.busy": "2024-01-24T10:31:04.451248Z",
          "iopub.execute_input": "2024-01-24T10:31:04.451846Z",
          "iopub.status.idle": "2024-01-24T10:31:04.456588Z",
          "shell.execute_reply.started": "2024-01-24T10:31:04.451817Z",
          "shell.execute_reply": "2024-01-24T10:31:04.455571Z"
        },
        "trusted": true,
        "id": "28cCVi0tCkIK"
      },
      "execution_count": null,
      "outputs": []
    },
    {
      "cell_type": "markdown",
      "source": [
        "**Let's Create A function to show us some random images with thier labels**"
      ],
      "metadata": {
        "id": "3wQH7inwCkIL"
      }
    },
    {
      "cell_type": "code",
      "source": [
        "def show_random_images_with_labels(main_folder, num_images=5):\n",
        "  \"\"\"\n",
        "  주 폴더의 하위 폴더에서 무작위로 선택된 이미지와 해당 레이블(하위 폴더 이름)을 표시합니다.\n",
        "\n",
        "  Args:\n",
        "    main_folder: 이미지가 포함된 하위 폴더가 있는 주 폴더의 경로.\n",
        "    num_images: 표시할 이미지 수 (기본값: 5).\n",
        "  \"\"\"\n",
        "\n",
        "  subfolders = [os.path.join(main_folder, f) for f in os.listdir(main_folder) if os.path.isdir(os.path.join(main_folder, f))]\n",
        "  # 주 폴더 내의 하위 폴더 경로를 리스트로 생성\n",
        "\n",
        "  random.shuffle(subfolders)  # 하위 폴더 순서를 무작위로 섞음\n",
        "\n",
        "  fig, axes = plt.subplots(nrows=1, ncols=num_images, figsize=(15, 5))\n",
        "  # num_images 수만큼 서브플롯을 생성 (1행 num_images열)\n",
        "\n",
        "  for i, subfolder in enumerate(subfolders[:num_images]):\n",
        "    # num_images 개수만큼 하위 폴더를 순회\n",
        "    image_paths = [os.path.join(subfolder, f) for f in os.listdir(subfolder) if f.lower().endswith(('.png', '.jpg', '.jpeg'))]\n",
        "    # 하위 폴더 내의 모든 이미지 파일 경로를 리스트로 생성\n",
        "\n",
        "    random.shuffle(image_paths)  # 하위 폴더 내 이미지 파일 경로 순서를 무작위로 섞음\n",
        "\n",
        "    image_path = image_paths[0]  # 무작위로 선택된 첫 번째 이미지 경로를 선택\n",
        "\n",
        "    img = Image.open(image_path)\n",
        "    # 선택된 이미지를 열기\n",
        "\n",
        "    axes[i].imshow(img)\n",
        "    # 이미지를 현재 서브플롯에 표시\n",
        "\n",
        "    axes[i].axis('off')\n",
        "    # 축 눈금을 비활성화\n",
        "\n",
        "    axes[i].set_title(os.path.basename(image_path) + f\" ({os.path.basename(subfolder)})\", fontsize=10)\n",
        "    # 이미지 파일명과 하위 폴더명을 서브플롯 제목으로 설정\n",
        "\n",
        "  plt.tight_layout()\n",
        "  # 서브플롯 간의 레이아웃을 조정\n",
        "\n",
        "  plt.show()\n",
        "  # 플롯을 화면에 출력\n"
      ],
      "metadata": {
        "execution": {
          "iopub.status.busy": "2024-01-24T10:31:04.457958Z",
          "iopub.execute_input": "2024-01-24T10:31:04.458614Z",
          "iopub.status.idle": "2024-01-24T10:31:04.492464Z",
          "shell.execute_reply.started": "2024-01-24T10:31:04.458579Z",
          "shell.execute_reply": "2024-01-24T10:31:04.491513Z"
        },
        "trusted": true,
        "id": "S1B74tsdCkIL"
      },
      "execution_count": null,
      "outputs": []
    },
    {
      "cell_type": "code",
      "source": [
        "# 임의의 이미지와 레이블을 표시하는 함수 호출\n",
        "show_random_images_with_labels(train_dir, 5)\n"
      ],
      "metadata": {
        "execution": {
          "iopub.status.busy": "2024-01-24T10:31:04.494517Z",
          "iopub.execute_input": "2024-01-24T10:31:04.494827Z",
          "iopub.status.idle": "2024-01-24T10:31:05.764997Z",
          "shell.execute_reply.started": "2024-01-24T10:31:04.494802Z",
          "shell.execute_reply": "2024-01-24T10:31:05.764062Z"
        },
        "trusted": true,
        "id": "JzfThT2GCkIL",
        "outputId": "db2ab0a1-327d-42ed-c51d-b3ea14043b94",
        "colab": {
          "base_uri": "https://localhost:8080/",
          "height": 168
        }
      },
      "execution_count": 1,
      "outputs": [
        {
          "output_type": "error",
          "ename": "NameError",
          "evalue": "name 'show_random_images_with_labels' is not defined",
          "traceback": [
            "\u001b[0;31m---------------------------------------------------------------------------\u001b[0m",
            "\u001b[0;31mNameError\u001b[0m                                 Traceback (most recent call last)",
            "\u001b[0;32m/tmp/ipython-input-1-4240781447.py\u001b[0m in \u001b[0;36m<cell line: 0>\u001b[0;34m()\u001b[0m\n\u001b[1;32m      1\u001b[0m \u001b[0;31m# 임의의 이미지와 레이블을 표시하는 함수 호출\u001b[0m\u001b[0;34m\u001b[0m\u001b[0;34m\u001b[0m\u001b[0m\n\u001b[0;32m----> 2\u001b[0;31m \u001b[0mshow_random_images_with_labels\u001b[0m\u001b[0;34m(\u001b[0m\u001b[0mtrain_dir\u001b[0m\u001b[0;34m,\u001b[0m \u001b[0;36m5\u001b[0m\u001b[0;34m)\u001b[0m\u001b[0;34m\u001b[0m\u001b[0;34m\u001b[0m\u001b[0m\n\u001b[0m",
            "\u001b[0;31mNameError\u001b[0m: name 'show_random_images_with_labels' is not defined"
          ]
        }
      ]
    },
    {
      "cell_type": "markdown",
      "source": [
        "# Create an ImageDataGenerator for Training / Validating and Testing data"
      ],
      "metadata": {
        "id": "eSsGRq_nCkIL"
      }
    },
    {
      "cell_type": "code",
      "source": [
        "train_datagen = ImageDataGenerator(zoom_range=0.2,\n",
        "                                   width_shift_range=0.2, height_shift_range=0.2)\n",
        "# 이미지 증강을 위한 ImageDataGenerator 객체 생성\n",
        "# - zoom_range: 이미지 확대 비율 설정\n",
        "# - width_shift_range: 이미지 가로 이동 비율 설정ㅁ\n",
        "# - height_shift_range: 이미지 세로 이동 비율 설정\n",
        "\n",
        "train_dg = train_datagen.flow_from_directory(train_dir,\n",
        "                                             class_mode=\"categorical\",\n",
        "                                             target_size=(299, 299),\n",
        "                                             batch_size=128,\n",
        "                                             shuffle=True,\n",
        "                                             seed=42)\n",
        "# train_dir 경로에서 이미지를 불러와서 데이터 증강\n",
        "# - class_mode: \"categorical\"로 설정하여 다중 클래스 레이블을 생성\n",
        "# - target_size: 모든 이미지를 (299, 299) 크기로 조정\n",
        "# - batch_size: 배치 크기를 128로 설정\n",
        "# - shuffle: 데이터를 무작위로 섞음\n",
        "# - seed: 무작위성 재현을 위한 시드 값 설정\n"
      ],
      "metadata": {
        "execution": {
          "iopub.status.busy": "2024-01-24T10:31:05.766256Z",
          "iopub.execute_input": "2024-01-24T10:31:05.766614Z",
          "iopub.status.idle": "2024-01-24T10:31:06.891513Z",
          "shell.execute_reply.started": "2024-01-24T10:31:05.766583Z",
          "shell.execute_reply": "2024-01-24T10:31:06.890763Z"
        },
        "trusted": true,
        "id": "spTSpKHaCkIL",
        "outputId": "6e2e20c8-99db-448b-ed2a-e653e855e1ab",
        "colab": {
          "base_uri": "https://localhost:8080/"
        }
      },
      "execution_count": null,
      "outputs": [
        {
          "output_type": "stream",
          "name": "stdout",
          "text": [
            "Found 13492 images belonging to 100 classes.\n"
          ]
        }
      ]
    },
    {
      "cell_type": "code",
      "source": [
        "val_datagen = ImageDataGenerator()\n",
        "# 검증 데이터는 증강 없이 로드하기 위한 ImageDataGenerator 객체 생성\n",
        "\n",
        "validation_dg = val_datagen.flow_from_directory(val_dir,\n",
        "                                                class_mode=\"categorical\",\n",
        "                                                target_size=(299, 299),\n",
        "                                                batch_size=128,\n",
        "                                                shuffle=False,\n",
        "                                                seed=42)\n",
        "# val_dir 경로에서 검증 데이터를 불러옴\n",
        "# - class_mode: \"categorical\"로 설정하여 다중 클래스 레이블을 생성\n",
        "# - target_size: 모든 이미지를 (299, 299) 크기로 조정\n",
        "# - batch_size: 배치 크기를 128로 설정\n",
        "# - shuffle: 데이터를 무작위로 섞지 않음\n",
        "# - seed: 무작위성 재현을 위한 시드 값 설정\n"
      ],
      "metadata": {
        "execution": {
          "iopub.status.busy": "2024-01-24T10:31:06.892635Z",
          "iopub.execute_input": "2024-01-24T10:31:06.892926Z",
          "iopub.status.idle": "2024-01-24T10:31:07.031567Z",
          "shell.execute_reply.started": "2024-01-24T10:31:06.892901Z",
          "shell.execute_reply": "2024-01-24T10:31:07.03073Z"
        },
        "trusted": true,
        "id": "Ox0UIvegCkIL",
        "outputId": "8f51d717-dea4-4fd2-ecce-35b8822933c1",
        "colab": {
          "base_uri": "https://localhost:8080/"
        }
      },
      "execution_count": null,
      "outputs": [
        {
          "output_type": "stream",
          "name": "stdout",
          "text": [
            "Found 500 images belonging to 100 classes.\n"
          ]
        }
      ]
    },
    {
      "cell_type": "code",
      "source": [
        "testing_dg = val_datagen.flow_from_directory(test_dir,\n",
        "                                             class_mode=\"categorical\",\n",
        "                                             target_size=(299, 299),\n",
        "                                             batch_size=128,\n",
        "                                             shuffle=False,\n",
        "                                             seed=42)\n",
        "# test_dir 경로에서 테스트 데이터를 불러옴\n",
        "# - class_mode: \"categorical\"로 설정하여 다중 클래스 레이블을 생성\n",
        "# - target_size: 모든 이미지를 (299, 299) 크기로 조정\n",
        "# - batch_size: 배치 크기를 128로 설정\n",
        "# - shuffle: 데이터를 무작위로 섞지 않음\n",
        "# - seed: 무작위성 재현을 위한 시드 값 설정\n"
      ],
      "metadata": {
        "execution": {
          "iopub.status.busy": "2024-01-24T10:31:07.032847Z",
          "iopub.execute_input": "2024-01-24T10:31:07.033372Z",
          "iopub.status.idle": "2024-01-24T10:31:07.175148Z",
          "shell.execute_reply.started": "2024-01-24T10:31:07.033338Z",
          "shell.execute_reply": "2024-01-24T10:31:07.174303Z"
        },
        "trusted": true,
        "id": "pRDFpQOECkIL",
        "outputId": "15656eca-5f3f-487b-9d98-1fad3adcd939",
        "colab": {
          "base_uri": "https://localhost:8080/"
        }
      },
      "execution_count": null,
      "outputs": [
        {
          "output_type": "stream",
          "name": "stdout",
          "text": [
            "Found 500 images belonging to 100 classes.\n"
          ]
        }
      ]
    },
    {
      "cell_type": "markdown",
      "source": [
        "# Create Basic CNN"
      ],
      "metadata": {
        "id": "sgtYi9NzKX4l"
      }
    },
    {
      "cell_type": "code",
      "source": [
        "import tensorflow as tf\n",
        "from tensorflow.keras.models import Sequential\n",
        "from tensorflow.keras.layers import Conv2D, MaxPooling2D, Flatten, Dense\n",
        "from tensorflow.keras.optimizers import Adam\n",
        "from tensorflow.keras.callbacks import ModelCheckpoint, EarlyStopping\n",
        "\n",
        "model = Sequential()\n",
        "# Conv layer (relu) 패딩적용\n",
        "model.add(Conv2D(input_shape=(299, 299, 3), filters=32, kernel_size=(3, 3), padding=\"same\", activation=\"relu\"))\n",
        "model.add(Conv2D(filters=32, kernel_size=(3, 3), padding=\"same\", activation=\"relu\"))\n",
        "# max pooling : stride(2x2) (overfittiong 방지)\n",
        "model.add(MaxPooling2D(pool_size=(2, 2), strides=(2, 2)))\n",
        "\n",
        "model.add(Conv2D(filters=64, kernel_size=(3, 3), padding=\"same\", activation=\"relu\"))\n",
        "model.add(MaxPooling2D(pool_size=(2, 2), strides=(2, 2)))\n",
        "\n",
        "model.add(Conv2D(filters=128, kernel_size=(3, 3), padding=\"same\", activation=\"relu\"))\n",
        "model.add(MaxPooling2D(pool_size=(2, 2), strides=(2, 2)))\n",
        "\n",
        "# flatten the image into a 1D array using the Flatten layer\n",
        "model.add(Flatten())\n",
        "# Fully connected layers\n",
        "model.add(Dense(units=256, activation=\"relu\"))\n",
        "# 아웃풋 레이어 (softmax)\n",
        "model.add(Dense(units=100, activation=\"softmax\"))\n",
        "\n",
        "model.summary()\n"
      ],
      "metadata": {
        "id": "jHn8VF61Klu7",
        "colab": {
          "base_uri": "https://localhost:8080/"
        },
        "outputId": "798092cf-a237-47e5-e72b-28bdca589d2e"
      },
      "execution_count": null,
      "outputs": [
        {
          "output_type": "stream",
          "name": "stdout",
          "text": [
            "Model: \"sequential\"\n",
            "_________________________________________________________________\n",
            " Layer (type)                Output Shape              Param #   \n",
            "=================================================================\n",
            " conv2d (Conv2D)             (None, 299, 299, 32)      896       \n",
            "                                                                 \n",
            " conv2d_1 (Conv2D)           (None, 299, 299, 32)      9248      \n",
            "                                                                 \n",
            " max_pooling2d (MaxPooling2  (None, 149, 149, 32)      0         \n",
            " D)                                                              \n",
            "                                                                 \n",
            " conv2d_2 (Conv2D)           (None, 149, 149, 64)      18496     \n",
            "                                                                 \n",
            " max_pooling2d_1 (MaxPoolin  (None, 74, 74, 64)        0         \n",
            " g2D)                                                            \n",
            "                                                                 \n",
            " conv2d_3 (Conv2D)           (None, 74, 74, 128)       73856     \n",
            "                                                                 \n",
            " max_pooling2d_2 (MaxPoolin  (None, 37, 37, 128)       0         \n",
            " g2D)                                                            \n",
            "                                                                 \n",
            " flatten (Flatten)           (None, 175232)            0         \n",
            "                                                                 \n",
            " dense (Dense)               (None, 256)               44859648  \n",
            "                                                                 \n",
            " dense_1 (Dense)             (None, 100)               25700     \n",
            "                                                                 \n",
            "=================================================================\n",
            "Total params: 44987844 (171.62 MB)\n",
            "Trainable params: 44987844 (171.62 MB)\n",
            "Non-trainable params: 0 (0.00 Byte)\n",
            "_________________________________________________________________\n"
          ]
        }
      ]
    },
    {
      "cell_type": "code",
      "source": [
        "import tensorflow as tf\n",
        "from tensorflow.keras.optimizers import Adam\n",
        "from tensorflow.keras.callbacks import ModelCheckpoint, EarlyStopping\n",
        "\n",
        "# 모델 컴파일\n",
        "model.compile(optimizer=Adam(), loss='categorical_crossentropy', metrics=['accuracy'])\n",
        "\n",
        "# 콜백 정의\n",
        "checkpoint_cb = ModelCheckpoint('best-cnn-model.keras', save_best_only=True)\n",
        "early_stopping_cb = EarlyStopping(patience=2, restore_best_weights=True)\n",
        "\n",
        "# 모델 훈련\n",
        "history = model.fit(\n",
        "    train_dg,\n",
        "    epochs=1,\n",
        "    validation_data=validation_dg,\n",
        "    callbacks=[checkpoint_cb, early_stopping_cb]\n",
        ")\n"
      ],
      "metadata": {
        "id": "YU0LfGg0Mgxn",
        "colab": {
          "base_uri": "https://localhost:8080/"
        },
        "outputId": "6ba035a0-b3e9-480f-aad6-b70d418843e1"
      },
      "execution_count": null,
      "outputs": [
        {
          "output_type": "stream",
          "name": "stdout",
          "text": [
            "106/106 [==============================] - 342s 3s/step - loss: 32.7949 - accuracy: 0.0279 - val_loss: 4.2057 - val_accuracy: 0.0540\n"
          ]
        }
      ]
    },
    {
      "cell_type": "markdown",
      "source": [
        "# Use ResNet50 Model"
      ],
      "metadata": {
        "id": "8Eyu7h46CkIM"
      }
    },
    {
      "cell_type": "code",
      "source": [
        "from tensorflow.keras.applications import ResNet50\n",
        "from tensorflow.keras.layers import Dense, Dropout, GlobalAveragePooling2D\n",
        "from tensorflow.keras.models import Model\n",
        "\n",
        "# ImageNet 데이터셋으로 사전 학습된 ResNet50 모델 불러오기\n",
        "base_model = ResNet50(weights=\"imagenet\", include_top=False, input_shape=(299, 299, 3))\n",
        "\n",
        "# 분류를 위한 레이어 추가\n",
        "x = base_model.output\n",
        "x = GlobalAveragePooling2D()(x) # Global Avg pooling 사용\n",
        "x = Dropout(0.25)(x) # 과적합 방지\n",
        "\n",
        "# 최종 모델 생성\n",
        "model = Model(inputs=base_model.input, outputs=Dense(100, activation=\"softmax\")(x))\n",
        "\n"
      ],
      "metadata": {
        "execution": {
          "iopub.status.busy": "2024-01-24T10:31:07.176319Z",
          "iopub.execute_input": "2024-01-24T10:31:07.178179Z",
          "iopub.status.idle": "2024-01-24T10:31:10.628098Z",
          "shell.execute_reply.started": "2024-01-24T10:31:07.178144Z",
          "shell.execute_reply": "2024-01-24T10:31:10.62716Z"
        },
        "trusted": true,
        "id": "aF3uimWcCkIM",
        "outputId": "ab8ab50f-4a96-4f4f-a09b-74d6b4875d86",
        "colab": {
          "base_uri": "https://localhost:8080/"
        }
      },
      "execution_count": null,
      "outputs": [
        {
          "output_type": "stream",
          "name": "stdout",
          "text": [
            "Downloading data from https://storage.googleapis.com/tensorflow/keras-applications/resnet/resnet50_weights_tf_dim_ordering_tf_kernels_notop.h5\n",
            "94765736/94765736 [==============================] - 0s 0us/step\n"
          ]
        }
      ]
    },
    {
      "cell_type": "code",
      "source": [
        "from tensorflow.keras.optimizers import Adam\n",
        "\n",
        "# Adam 옵티마이저를 사용하여 학습률 0.005로 설정\n",
        "opt = Adam(learning_rate=0.005)\n",
        "\n",
        "# 모델 컴파일\n",
        "model.compile(optimizer=opt,\n",
        "              loss=keras.losses.categorical_crossentropy,\n",
        "              metrics=['accuracy'])\n",
        "# - optimizer: 설정한 Adam 옵티마이저 사용\n",
        "# - loss: 다중 클래스 분류를 위한 categorical_crossentropy 손실 함수 사용\n",
        "# - metrics: 모델 평가를 위한 정확도(accuracy) 메트릭 사용\n"
      ],
      "metadata": {
        "execution": {
          "iopub.status.busy": "2024-01-24T10:31:10.629354Z",
          "iopub.execute_input": "2024-01-24T10:31:10.629633Z",
          "iopub.status.idle": "2024-01-24T10:31:10.649797Z",
          "shell.execute_reply.started": "2024-01-24T10:31:10.629609Z",
          "shell.execute_reply": "2024-01-24T10:31:10.648955Z"
        },
        "trusted": true,
        "id": "NPfSjfXlCkIM"
      },
      "execution_count": null,
      "outputs": []
    },
    {
      "cell_type": "code",
      "source": [
        "history = model.fit(\n",
        "      train_dg,\n",
        "      epochs=10,\n",
        "      validation_data = validation_dg,\n",
        "    callbacks=[\n",
        "        EarlyStopping(monitor = \"val_loss\", # watch the val loss metric\n",
        "                               patience = 3,\n",
        "                               restore_best_weights = True),\n",
        "        ReduceLROnPlateau(monitor='val_loss', factor=0.2, patience=2, mode='min')\n",
        "    ]\n",
        ")"
      ],
      "metadata": {
        "execution": {
          "iopub.status.busy": "2024-01-24T10:31:10.652603Z",
          "iopub.execute_input": "2024-01-24T10:31:10.652861Z",
          "iopub.status.idle": "2024-01-24T11:29:43.387348Z",
          "shell.execute_reply.started": "2024-01-24T10:31:10.652838Z",
          "shell.execute_reply": "2024-01-24T11:29:43.386399Z"
        },
        "trusted": true,
        "id": "2ihnDmj0CkIM",
        "outputId": "ecd82389-582d-4b18-d8b9-7c6377541529",
        "colab": {
          "base_uri": "https://localhost:8080/"
        }
      },
      "execution_count": null,
      "outputs": [
        {
          "output_type": "stream",
          "name": "stdout",
          "text": [
            "Epoch 1/10\n",
            "106/106 [==============================] - 335s 3s/step - loss: 2.1678 - accuracy: 0.5148 - val_loss: 0.7069 - val_accuracy: 0.7760 - lr: 0.0050\n",
            "Epoch 2/10\n",
            "106/106 [==============================] - 309s 3s/step - loss: 0.9985 - accuracy: 0.7220 - val_loss: 0.6476 - val_accuracy: 0.8080 - lr: 0.0050\n",
            "Epoch 3/10\n",
            "106/106 [==============================] - 308s 3s/step - loss: 0.7575 - accuracy: 0.7844 - val_loss: 0.5077 - val_accuracy: 0.8400 - lr: 0.0050\n",
            "Epoch 4/10\n",
            "106/106 [==============================] - 309s 3s/step - loss: 0.7290 - accuracy: 0.7958 - val_loss: 0.5534 - val_accuracy: 0.8500 - lr: 0.0050\n",
            "Epoch 5/10\n",
            "106/106 [==============================] - 311s 3s/step - loss: 0.6588 - accuracy: 0.8158 - val_loss: 0.4961 - val_accuracy: 0.8520 - lr: 0.0050\n",
            "Epoch 6/10\n",
            "106/106 [==============================] - 309s 3s/step - loss: 0.5994 - accuracy: 0.8289 - val_loss: 0.4587 - val_accuracy: 0.8740 - lr: 0.0050\n",
            "Epoch 7/10\n",
            "106/106 [==============================] - 310s 3s/step - loss: 0.5723 - accuracy: 0.8361 - val_loss: 0.5452 - val_accuracy: 0.8700 - lr: 0.0050\n",
            "Epoch 8/10\n",
            "106/106 [==============================] - 313s 3s/step - loss: 0.5686 - accuracy: 0.8439 - val_loss: 0.5026 - val_accuracy: 0.8680 - lr: 0.0050\n",
            "Epoch 9/10\n",
            "106/106 [==============================] - 308s 3s/step - loss: 0.3232 - accuracy: 0.9005 - val_loss: 0.3115 - val_accuracy: 0.9080 - lr: 1.0000e-03\n",
            "Epoch 10/10\n",
            "106/106 [==============================] - 312s 3s/step - loss: 0.2826 - accuracy: 0.9127 - val_loss: 0.3136 - val_accuracy: 0.9160 - lr: 1.0000e-03\n"
          ]
        }
      ]
    },
    {
      "cell_type": "markdown",
      "source": [
        "# Plotting Our Metrics"
      ],
      "metadata": {
        "id": "6dxFBNc4CkIM"
      }
    },
    {
      "cell_type": "code",
      "source": [
        "# 학습과 검증 메트릭을 history 객체에서 추출\n",
        "train_acc = history.history['accuracy']\n",
        "val_acc = history.history['val_accuracy']\n",
        "train_loss = history.history['loss']\n",
        "val_loss = history.history['val_loss']\n",
        "\n",
        "epochs = range(1, len(train_acc) + 1)\n",
        "\n",
        "# 정확도 시각화\n",
        "plt.figure(figsize=(12, 4))\n",
        "plt.subplot(1, 2, 1)\n",
        "plt.plot(epochs, train_acc, 'b', label='Training accuracy')  # 학습 정확도 플롯\n",
        "plt.plot(epochs, val_acc, 'r', label='Validation accuracy')  # 검증 정확도 플롯\n",
        "plt.title('Training and Validation Accuracy')  # 제목 설정\n",
        "plt.xlabel('Epochs')  # x축 레이블 설정\n",
        "plt.ylabel('Accuracy')  # y축 레이블 설정\n",
        "plt.legend()  # 범례 표시\n",
        "\n",
        "# 손실 시각화\n",
        "plt.subplot(1, 2, 2)\n",
        "plt.plot(epochs, train_loss, 'b', label='Training loss')  # 학습 손실 플롯\n",
        "plt.plot(epochs, val_loss, 'r', label='Validation loss')  # 검증 손실 플롯\n",
        "plt.title('Training and Validation Loss')  # 제목 설정\n",
        "plt.xlabel('Epochs')  # x축 레이블 설정\n",
        "plt.ylabel('Loss')  # y축 레이블 설정\n",
        "plt.legend()  # 범례 표시\n",
        "\n",
        "plt.tight_layout()  # 레이아웃 조정\n",
        "plt.show()  # 그래프 표시\n"
      ],
      "metadata": {
        "execution": {
          "iopub.status.busy": "2024-01-24T11:29:43.38866Z",
          "iopub.execute_input": "2024-01-24T11:29:43.388977Z",
          "iopub.status.idle": "2024-01-24T11:29:43.957734Z",
          "shell.execute_reply.started": "2024-01-24T11:29:43.388949Z",
          "shell.execute_reply": "2024-01-24T11:29:43.956871Z"
        },
        "trusted": true,
        "id": "2W9L2B8LCkIM",
        "outputId": "853dcda9-43c0-4170-cbb9-7368bad633ec",
        "colab": {
          "base_uri": "https://localhost:8080/",
          "height": 407
        }
      },
      "execution_count": null,
      "outputs": [
        {
          "output_type": "display_data",
          "data": {
            "text/plain": [
              "<Figure size 1200x400 with 2 Axes>"
            ],
            "image/png": "[encoded data removed]"
          },
          "metadata": {}
        }
      ]
    },
    {
      "cell_type": "markdown",
      "source": [
        "# Evaluating the model's performance on the test dataset."
      ],
      "metadata": {
        "id": "pALAN6gxCkIN"
      }
    },
    {
      "cell_type": "code",
      "source": [
        "# 테스트 데이터 제네레이터를 사용하여 모델 평가\n",
        "predictions = model.evaluate(testing_dg)\n",
        "\n",
        "# CNN Model\n",
        "# 평가 결과 출력\n",
        "print(f\"Test Loss: {predictions[0]}\")\n",
        "print(f\"Test Accuracy: {predictions[1]}\")\n"
      ],
      "metadata": {
        "execution": {
          "iopub.status.busy": "2024-01-24T11:29:43.95925Z",
          "iopub.execute_input": "2024-01-24T11:29:43.959531Z",
          "iopub.status.idle": "2024-01-24T11:29:49.191263Z",
          "shell.execute_reply.started": "2024-01-24T11:29:43.959505Z",
          "shell.execute_reply": "2024-01-24T11:29:49.19049Z"
        },
        "trusted": true,
        "id": "4zxRHUYhCkIN",
        "outputId": "5048cd27-c09b-4983-ebeb-3ecf315ff0f9",
        "colab": {
          "base_uri": "https://localhost:8080/"
        }
      },
      "execution_count": null,
      "outputs": [
        {
          "output_type": "stream",
          "name": "stdout",
          "text": [
            "4/4 [==============================] - 3s 734ms/step - loss: 0.3119 - accuracy: 0.9160\n",
            "Test Loss: 0.3119038939476013\n",
            "Test Accuracy: 0.9160000085830688\n"
          ]
        }
      ]
    },
    {
      "cell_type": "code",
      "source": [
        "# 테스트 데이터의 실제 레이블 가져오기\n",
        "true_labels = testing_dg.classes\n",
        "\n",
        "# 모델을 사용하여 예측한 클래스 레이블 가져오기\n",
        "predicted_labels = np.argmax(model.predict(testing_dg), axis=1)\n",
        "\n",
        "# 분류 보고서 출력\n",
        "print(\"Classification Report:\\n\", classification_report(true_labels, predicted_labels, target_names=list(testing_dg.class_indices.keys())))\n"
      ],
      "metadata": {
        "execution": {
          "iopub.status.busy": "2024-01-24T11:29:49.192455Z",
          "iopub.execute_input": "2024-01-24T11:29:49.192754Z",
          "iopub.status.idle": "2024-01-24T11:29:53.555793Z",
          "shell.execute_reply.started": "2024-01-24T11:29:49.192726Z",
          "shell.execute_reply": "2024-01-24T11:29:53.554898Z"
        },
        "trusted": true,
        "id": "-jYqAb_yCkIN",
        "outputId": "f8ff7f17-9328-4f51-f25f-7456014207c4",
        "colab": {
          "base_uri": "https://localhost:8080/"
        }
      },
      "execution_count": null,
      "outputs": [
        {
          "output_type": "stream",
          "name": "stdout",
          "text": [
            "4/4 [==============================] - 3s 753ms/step\n",
            "Classification Report:\n",
            "                        precision    recall  f1-score   support\n",
            "\n",
            "           air hockey       1.00      1.00      1.00         5\n",
            "      ampute football       1.00      1.00      1.00         5\n",
            "              archery       1.00      1.00      1.00         5\n",
            "        arm wrestling       1.00      1.00      1.00         5\n",
            "         axe throwing       1.00      1.00      1.00         5\n",
            "         balance beam       1.00      1.00      1.00         5\n",
            "        barell racing       1.00      1.00      1.00         5\n",
            "             baseball       0.80      0.80      0.80         5\n",
            "           basketball       0.80      0.80      0.80         5\n",
            "       baton twirling       1.00      0.40      0.57         5\n",
            "            bike polo       1.00      1.00      1.00         5\n",
            "            billiards       1.00      1.00      1.00         5\n",
            "                  bmx       1.00      0.60      0.75         5\n",
            "              bobsled       1.00      0.80      0.89         5\n",
            "              bowling       1.00      1.00      1.00         5\n",
            "               boxing       1.00      1.00      1.00         5\n",
            "          bull riding       1.00      1.00      1.00         5\n",
            "       bungee jumping       1.00      1.00      1.00         5\n",
            "         canoe slamon       0.83      1.00      0.91         5\n",
            "         cheerleading       1.00      0.40      0.57         5\n",
            "    chuckwagon racing       1.00      1.00      1.00         5\n",
            "              cricket       0.83      1.00      0.91         5\n",
            "              croquet       1.00      1.00      1.00         5\n",
            "              curling       1.00      1.00      1.00         5\n",
            "            disc golf       1.00      1.00      1.00         5\n",
            "              fencing       1.00      1.00      1.00         5\n",
            "         field hockey       1.00      1.00      1.00         5\n",
            "   figure skating men       1.00      1.00      1.00         5\n",
            " figure skating pairs       1.00      0.60      0.75         5\n",
            " figure skating women       0.56      1.00      0.71         5\n",
            "          fly fishing       1.00      1.00      1.00         5\n",
            "             football       0.80      0.80      0.80         5\n",
            "     formula 1 racing       1.00      0.80      0.89         5\n",
            "              frisbee       1.00      0.80      0.89         5\n",
            "                 gaga       1.00      1.00      1.00         5\n",
            "         giant slalom       1.00      1.00      1.00         5\n",
            "                 golf       0.80      0.80      0.80         5\n",
            "         hammer throw       1.00      1.00      1.00         5\n",
            "         hang gliding       1.00      1.00      1.00         5\n",
            "       harness racing       1.00      1.00      1.00         5\n",
            "            high jump       0.71      1.00      0.83         5\n",
            "               hockey       0.83      1.00      0.91         5\n",
            "        horse jumping       1.00      1.00      1.00         5\n",
            "         horse racing       1.00      1.00      1.00         5\n",
            "   horseshoe pitching       1.00      0.80      0.89         5\n",
            "              hurdles       1.00      1.00      1.00         5\n",
            "    hydroplane racing       1.00      0.80      0.89         5\n",
            "         ice climbing       1.00      0.80      0.89         5\n",
            "         ice yachting       1.00      0.80      0.89         5\n",
            "             jai alai       1.00      1.00      1.00         5\n",
            "              javelin       0.71      1.00      0.83         5\n",
            "             jousting       1.00      1.00      1.00         5\n",
            "                 judo       1.00      0.60      0.75         5\n",
            "             lacrosse       0.71      1.00      0.83         5\n",
            "          log rolling       1.00      1.00      1.00         5\n",
            "                 luge       0.83      1.00      0.91         5\n",
            "    motorcycle racing       0.50      1.00      0.67         5\n",
            "              mushing       1.00      1.00      1.00         5\n",
            "        nascar racing       0.83      1.00      0.91         5\n",
            "    olympic wrestling       1.00      0.80      0.89         5\n",
            "         parallel bar       1.00      0.80      0.89         5\n",
            "        pole climbing       0.83      1.00      0.91         5\n",
            "         pole dancing       1.00      0.80      0.89         5\n",
            "           pole vault       0.80      0.80      0.80         5\n",
            "                 polo       1.00      1.00      1.00         5\n",
            "         pommel horse       0.83      1.00      0.91         5\n",
            "                rings       1.00      1.00      1.00         5\n",
            "        rock climbing       1.00      1.00      1.00         5\n",
            "         roller derby       1.00      0.80      0.89         5\n",
            "   rollerblade racing       1.00      1.00      1.00         5\n",
            "               rowing       1.00      1.00      1.00         5\n",
            "                rugby       0.62      1.00      0.77         5\n",
            "      sailboat racing       0.62      1.00      0.77         5\n",
            "             shot put       0.71      1.00      0.83         5\n",
            "         shuffleboard       1.00      0.80      0.89         5\n",
            "       sidecar racing       1.00      0.60      0.75         5\n",
            "          ski jumping       0.83      1.00      0.91         5\n",
            "          sky surfing       1.00      0.80      0.89         5\n",
            "            skydiving       0.83      1.00      0.91         5\n",
            "        snow boarding       0.80      0.80      0.80         5\n",
            "    snowmobile racing       1.00      0.80      0.89         5\n",
            "        speed skating       1.00      1.00      1.00         5\n",
            "      steer wrestling       1.00      1.00      1.00         5\n",
            "       sumo wrestling       1.00      1.00      1.00         5\n",
            "              surfing       1.00      1.00      1.00         5\n",
            "             swimming       1.00      1.00      1.00         5\n",
            "         table tennis       1.00      1.00      1.00         5\n",
            "               tennis       0.83      1.00      0.91         5\n",
            "        track bicycle       0.83      1.00      0.91         5\n",
            "              trapeze       1.00      0.40      0.57         5\n",
            "           tug of war       1.00      1.00      1.00         5\n",
            "             ultimate       1.00      0.60      0.75         5\n",
            "          uneven bars       0.80      0.80      0.80         5\n",
            "           volleyball       1.00      0.80      0.89         5\n",
            "        water cycling       1.00      1.00      1.00         5\n",
            "           water polo       1.00      1.00      1.00         5\n",
            "        weightlifting       1.00      1.00      1.00         5\n",
            "wheelchair basketball       0.83      1.00      0.91         5\n",
            "    wheelchair racing       1.00      0.80      0.89         5\n",
            "      wingsuit flying       1.00      1.00      1.00         5\n",
            "\n",
            "             accuracy                           0.92       500\n",
            "            macro avg       0.94      0.92      0.91       500\n",
            "         weighted avg       0.94      0.92      0.91       500\n",
            "\n"
          ]
        }
      ]
    },
    {
      "cell_type": "code",
      "source": [
        "plt.plot(history.history['loss'])\n",
        "plt.plot(history.history['val_loss'])\n",
        "plt.xlabel('epoch')\n",
        "plt.ylabel('loss')\n",
        "plt.legend(['train', 'val'])\n",
        "plt.show()"
      ],
      "metadata": {
        "colab": {
          "base_uri": "https://localhost:8080/",
          "height": 453
        },
        "id": "2zaJe_O1fT3i",
        "outputId": "00be0c57-ccdd-497e-cf01-38b21f72ec70"
      },
      "execution_count": null,
      "outputs": [
        {
          "output_type": "display_data",
          "data": {
            "text/plain": [
              "<Figure size 640x480 with 1 Axes>"
            ],
            "image/png": "[encoded data removed]"
          },
          "metadata": {}
        }
      ]
    }
  ]
}